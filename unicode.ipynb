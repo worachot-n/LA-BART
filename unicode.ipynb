{
 "cells": [
  {
   "cell_type": "code",
   "execution_count": 2,
   "id": "c9a5a6f4-6a9b-4dd4-986d-09e6b4045953",
   "metadata": {},
   "outputs": [
    {
     "name": "stdout",
     "output_type": "stream",
     "text": [
      " Python is easy  to learn. \n"
     ]
    }
   ],
   "source": [
    "string_unicode = \" Python is easy \\u200c to learn. \"\n",
    "string_encode = string_unicode.encode(\"ascii\", \"ignore\")\n",
    "string_decode = string_encode.decode(\"ascii\")\n",
    "print(string_decode)"
   ]
  },
  {
   "cell_type": "code",
   "execution_count": null,
   "id": "a9fae2f8-7f67-4384-952c-048472c0fff9",
   "metadata": {},
   "outputs": [],
   "source": []
  }
 ],
 "metadata": {
  "kernelspec": {
   "display_name": "Python 3 (ipykernel)",
   "language": "python",
   "name": "python3"
  },
  "language_info": {
   "codemirror_mode": {
    "name": "ipython",
    "version": 3
   },
   "file_extension": ".py",
   "mimetype": "text/x-python",
   "name": "python",
   "nbconvert_exporter": "python",
   "pygments_lexer": "ipython3",
   "version": "3.10.6"
  }
 },
 "nbformat": 4,
 "nbformat_minor": 5
}
